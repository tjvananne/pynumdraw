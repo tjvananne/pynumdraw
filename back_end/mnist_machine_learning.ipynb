{
 "cells": [
  {
   "cell_type": "markdown",
   "metadata": {},
   "source": [
    "# MNIST ML - Load / process raw data"
   ]
  },
  {
   "cell_type": "code",
   "execution_count": 35,
   "metadata": {},
   "outputs": [
    {
     "name": "stdout",
     "output_type": "stream",
     "text": [
      "C:\\Users\\tjvan\\Documents\\local_programs\\miniconda3\\envs\\pyds\\python.exe\n",
      "C:\\Users\\tjvan\\Documents\\projects_for_learning\\01_pynumdraw\\pynumdraw\\back_end\n",
      "['README.txt', 't10k-images-idx3-ubyte', 't10k-labels-idx1-ubyte', 'train-images-idx3-ubyte', 'train-labels-idx1-ubyte']\n"
     ]
    }
   ],
   "source": [
    "import sys\n",
    "import os\n",
    "import numpy as np\n",
    "import pandas as pd\n",
    "\n",
    "import matplotlib.pyplot as plt\n",
    "\n",
    "import tensorflow as tf\n",
    "from tensorflow import keras \n",
    "\n",
    "print(sys.executable)\n",
    "print(os.getcwd())\n",
    "print(os.listdir('../data'))  # this is where raw training / testing data is stored\n",
    "\n",
    "\n",
    "MODEL_SEMVER = '0.2.0'"
   ]
  },
  {
   "cell_type": "code",
   "execution_count": 2,
   "metadata": {},
   "outputs": [
    {
     "data": {
      "text/plain": [
       "'3.7.3 (default, Apr 24 2019, 15:29:51) [MSC v.1915 64 bit (AMD64)]'"
      ]
     },
     "execution_count": 2,
     "metadata": {},
     "output_type": "execute_result"
    }
   ],
   "source": [
    "sys.version"
   ]
  },
  {
   "cell_type": "code",
   "execution_count": 3,
   "metadata": {},
   "outputs": [],
   "source": [
    "def read_mnist_image_data(image_data_file):\n",
    "    \"\"\"\n",
    "    image_data_file: path to the mnist image data file on disk.\n",
    "    \n",
    "    returns a dictionary with the following keys:\n",
    "    - magic_number: to be compared against the magic number for each file on MNIST website\n",
    "    - number_of_images: the number of images included in the dataset\n",
    "    - pixel_rows: the number of pixels per row per image\n",
    "    - pixel_cols: the number of pixels per column per image\n",
    "    - data: the actual image data as ndarray with shape of (number_of_images, pixel_rows, pixel_cols)\n",
    "    \"\"\"\n",
    "    \n",
    "    results = {}\n",
    "    \n",
    "    with open(image_data_file, 'rb') as f:\n",
    "        _data = f.read()\n",
    "        \n",
    "    results['magic_number'] = int.from_bytes(_data[0:4], 'big')\n",
    "    results['number_of_images'] = int.from_bytes(_data[4:8], 'big')\n",
    "    results['pixel_rows'] = int.from_bytes(_data[8:12], 'big')\n",
    "    results['pixel_cols'] = int.from_bytes(_data[12:16], 'big')\n",
    "    \n",
    "    pixel_data = np.asarray([pixel for pixel in _data[16:]])\n",
    "    pixel_data = pixel_data.reshape(results['number_of_images'], results['pixel_rows'], results['pixel_cols'])\n",
    "    results['data'] = pixel_data\n",
    "    \n",
    "    return results\n",
    "    \n",
    "    \n",
    "def read_mnist_label_data(label_data_file):\n",
    "    \"\"\"\n",
    "    label_data_file: path to the mnist label data file on disk.\n",
    "    \n",
    "    returns a dictionary with the following keys:\n",
    "    - magic_number: to be compared against the magic number for each file on MNIST website\n",
    "    - number_of_labels: the number of labels included in the dataset\n",
    "    - labels: the actual label data as ndarray (1 dimensional)\n",
    "    \"\"\"\n",
    "    \n",
    "    results = {}\n",
    "    \n",
    "    with open(label_data_file, 'rb') as f:\n",
    "        _data = f.read()\n",
    "        \n",
    "    results['magic_number'] = int.from_bytes(_data[0:4], 'big')\n",
    "    results['number_of_labels'] = int.from_bytes(_data[4:8], 'big')    \n",
    "    results['labels'] = np.asarray([(label / 1.0) for label in _data[8:]]).astype('int')\n",
    "    \n",
    "    return results\n",
    "    \n",
    "    "
   ]
  },
  {
   "cell_type": "code",
   "execution_count": 4,
   "metadata": {},
   "outputs": [],
   "source": [
    "# set up training images (divide )\n",
    "x_train = read_mnist_image_data(\"../data/train-images-idx3-ubyte\")['data'] / 255.0\n",
    "y_train = read_mnist_label_data(\"../data/train-labels-idx1-ubyte\")['labels']\n",
    "\n",
    "x_validation = read_mnist_image_data('../data/t10k-images-idx3-ubyte')['data'] /255.0\n",
    "y_validation = read_mnist_label_data('../data/t10k-labels-idx1-ubyte')['labels']\n"
   ]
  },
  {
   "cell_type": "code",
   "execution_count": 5,
   "metadata": {},
   "outputs": [],
   "source": [
    "class_names = [str(x) for x in range(0, 10)]\n",
    "class_names\n",
    "\n",
    "num_classes = len(class_names)\n",
    "num_classes\n",
    "\n",
    "batch_size = 128"
   ]
  },
  {
   "cell_type": "code",
   "execution_count": 6,
   "metadata": {},
   "outputs": [
    {
     "data": {
      "text/plain": [
       "(60000, 28, 28)"
      ]
     },
     "execution_count": 6,
     "metadata": {},
     "output_type": "execute_result"
    }
   ],
   "source": [
    "x_train.shape"
   ]
  },
  {
   "cell_type": "code",
   "execution_count": 7,
   "metadata": {},
   "outputs": [
    {
     "name": "stdout",
     "output_type": "stream",
     "text": [
      "(60000, 28, 28, 1)\n",
      "(10000, 28, 28, 1)\n"
     ]
    }
   ],
   "source": [
    "print(np.expand_dims(x_train, axis=3).shape)\n",
    "print(np.expand_dims(x_validation, axis=3).shape)"
   ]
  },
  {
   "cell_type": "code",
   "execution_count": 8,
   "metadata": {},
   "outputs": [
    {
     "name": "stdout",
     "output_type": "stream",
     "text": [
      "(60000, 28, 28, 1)\n",
      "(10000, 28, 28, 1)\n"
     ]
    }
   ],
   "source": [
    "x_train = np.expand_dims(x_train, axis=3)\n",
    "x_validation = np.expand_dims(x_validation, axis=3)\n",
    "\n",
    "print(x_train.shape)\n",
    "print(x_validation.shape)"
   ]
  },
  {
   "cell_type": "code",
   "execution_count": 9,
   "metadata": {},
   "outputs": [],
   "source": [
    "# https://github.com/keras-team/keras/blob/master/examples/mnist_cnn.py#L47-L61\n",
    "\n",
    "input_shape = (28, 28, 1)\n",
    "\n",
    "model = keras.Sequential()\n",
    "model.add(keras.layers.Conv2D(32, kernel_size=(3, 3),\n",
    "                 activation='relu',\n",
    "                 input_shape=(28, 28, 1)))\n",
    "model.add(keras.layers.Conv2D(64, (3, 3), activation='relu'))\n",
    "model.add(keras.layers.MaxPooling2D(pool_size=(2, 2)))\n",
    "model.add(keras.layers.Dropout(0.25))\n",
    "model.add(keras.layers.Flatten())\n",
    "model.add(keras.layers.Dense(128, activation='relu'))\n",
    "model.add(keras.layers.Dropout(0.5))\n",
    "model.add(keras.layers.Dense(num_classes, activation='softmax'))\n",
    "\n",
    "# model.compile(loss=keras.losses.categorical_crossentropy,\n",
    "#               optimizer=keras.optimizers.Adadelta(),\n",
    "#               metrics=['accuracy'])\n",
    "\n",
    "model.compile(optimizer='adam',\n",
    "              loss=tf.keras.losses.SparseCategoricalCrossentropy(from_logits=True),\n",
    "              metrics=['accuracy'])"
   ]
  },
  {
   "cell_type": "code",
   "execution_count": 10,
   "metadata": {},
   "outputs": [
    {
     "name": "stdout",
     "output_type": "stream",
     "text": [
      "Model: \"sequential\"\n",
      "_________________________________________________________________\n",
      "Layer (type)                 Output Shape              Param #   \n",
      "=================================================================\n",
      "conv2d (Conv2D)              (None, 26, 26, 32)        320       \n",
      "_________________________________________________________________\n",
      "conv2d_1 (Conv2D)            (None, 24, 24, 64)        18496     \n",
      "_________________________________________________________________\n",
      "max_pooling2d (MaxPooling2D) (None, 12, 12, 64)        0         \n",
      "_________________________________________________________________\n",
      "dropout (Dropout)            (None, 12, 12, 64)        0         \n",
      "_________________________________________________________________\n",
      "flatten (Flatten)            (None, 9216)              0         \n",
      "_________________________________________________________________\n",
      "dense (Dense)                (None, 128)               1179776   \n",
      "_________________________________________________________________\n",
      "dropout_1 (Dropout)          (None, 128)               0         \n",
      "_________________________________________________________________\n",
      "dense_1 (Dense)              (None, 10)                1290      \n",
      "=================================================================\n",
      "Total params: 1,199,882\n",
      "Trainable params: 1,199,882\n",
      "Non-trainable params: 0\n",
      "_________________________________________________________________\n"
     ]
    }
   ],
   "source": [
    "model.summary()"
   ]
  },
  {
   "cell_type": "code",
   "execution_count": 11,
   "metadata": {},
   "outputs": [],
   "source": [
    "# model = keras.Sequential([\n",
    "#     keras.layers.Flatten(input_shape=(28, 28)),\n",
    "#     keras.layers.Dense(128, activation='relu'),\n",
    "#     keras.layers.Dense(10)\n",
    "# ])\n",
    "\n",
    "\n",
    "# model.compile(optimizer='adam',\n",
    "#               loss=tf.keras.losses.SparseCategoricalCrossentropy(from_logits=True),\n",
    "#               metrics=['accuracy'])\n",
    "\n"
   ]
  },
  {
   "cell_type": "code",
   "execution_count": 13,
   "metadata": {},
   "outputs": [
    {
     "name": "stdout",
     "output_type": "stream",
     "text": [
      "Train on 60000 samples\n",
      "Epoch 1/3\n",
      "60000/60000 [==============================] - 105s 2ms/sample - loss: 1.4878 - accuracy: 0.9739\n",
      "Epoch 2/3\n",
      "60000/60000 [==============================] - 105s 2ms/sample - loss: 1.4857 - accuracy: 0.9762\n",
      "Epoch 3/3\n",
      "60000/60000 [==============================] - 105s 2ms/sample - loss: 1.4825 - accuracy: 0.9793\n",
      "10000/10000 - 5s - loss: 1.4734 - accuracy: 0.9883\n",
      "\n",
      "Test accuracy: 0.9883\n"
     ]
    }
   ],
   "source": [
    "model.fit(x_train, y_train, batch_size=batch_size, epochs=3)\n",
    "\n",
    "\n",
    "\n"
   ]
  },
  {
   "cell_type": "code",
   "execution_count": 14,
   "metadata": {},
   "outputs": [
    {
     "name": "stdout",
     "output_type": "stream",
     "text": [
      "10000/10000 - 5s - loss: 1.4734 - accuracy: 0.9883\n",
      "\n",
      "Test accuracy: 0.9883\n"
     ]
    }
   ],
   "source": [
    "test_loss, test_acc = model.evaluate(x_validation,  y_validation, verbose=2)\n",
    "\n",
    "print('\\nTest accuracy:', test_acc)"
   ]
  },
  {
   "cell_type": "code",
   "execution_count": 20,
   "metadata": {},
   "outputs": [
    {
     "data": {
      "text/plain": [
       "(1, 28, 28, 1)"
      ]
     },
     "execution_count": 20,
     "metadata": {},
     "output_type": "execute_result"
    }
   ],
   "source": [
    "np.expand_dims(x_validation[1, :, :, :], axis=0).shape"
   ]
  },
  {
   "cell_type": "markdown",
   "metadata": {},
   "source": [
    "## How to generate predicted probabilities for single image"
   ]
  },
  {
   "cell_type": "code",
   "execution_count": 54,
   "metadata": {},
   "outputs": [
    {
     "name": "stdout",
     "output_type": "stream",
     "text": [
      "(28, 28)\n",
      "need to add another dimension at the beginning to this\n",
      "(1, 28, 28, 1)\n",
      "now it's ready for prediction\n"
     ]
    }
   ],
   "source": [
    "test_indx = 2\n",
    "single_image = x_validation[test_indx, :, :, :]\n",
    "single_image = single_image.reshape((28, 28))\n",
    "print(single_image.shape)\n",
    "print(\"need to add another dimension at the beginning to this\")\n",
    "\n",
    "# single_image = np.expand_dims(single_image, axis=0)\n",
    "single_image = single_image.reshape((1, 28, 28, 1))\n",
    "print(single_image.shape)\n",
    "print(\"now it's ready for prediction\")"
   ]
  },
  {
   "cell_type": "code",
   "execution_count": 55,
   "metadata": {},
   "outputs": [
    {
     "data": {
      "text/plain": [
       "array([[8.0652593e-16, 1.0000000e+00, 3.5231417e-16, 4.0224308e-25,\n",
       "        4.6478939e-13, 1.0854657e-21, 1.4846377e-14, 1.3849929e-15,\n",
       "        4.4875524e-17, 4.4264748e-20]], dtype=float32)"
      ]
     },
     "execution_count": 55,
     "metadata": {},
     "output_type": "execute_result"
    }
   ],
   "source": [
    "single_prediction = model.predict( single_image)\n",
    "single_prediction"
   ]
  },
  {
   "cell_type": "markdown",
   "metadata": {},
   "source": [
    "## How to get the actual predicted value"
   ]
  },
  {
   "cell_type": "code",
   "execution_count": 56,
   "metadata": {},
   "outputs": [
    {
     "data": {
      "text/plain": [
       "(1, 10)"
      ]
     },
     "execution_count": 56,
     "metadata": {},
     "output_type": "execute_result"
    }
   ],
   "source": [
    "single_prediction.shape"
   ]
  },
  {
   "cell_type": "code",
   "execution_count": 57,
   "metadata": {},
   "outputs": [
    {
     "data": {
      "text/plain": [
       "<matplotlib.image.AxesImage at 0x139867396d8>"
      ]
     },
     "execution_count": 57,
     "metadata": {},
     "output_type": "execute_result"
    },
    {
     "data": {
      "image/png": "[encoded data removed]",
      "text/plain": [
       "<Figure size 432x288 with 1 Axes>"
      ]
     },
     "metadata": {
      "needs_background": "light"
     },
     "output_type": "display_data"
    }
   ],
   "source": [
    "from matplotlib.pyplot import imshow\n",
    "imshow(single_image.reshape((28, 28)))"
   ]
  },
  {
   "cell_type": "code",
   "execution_count": 58,
   "metadata": {},
   "outputs": [
    {
     "data": {
      "text/plain": [
       "array([1], dtype=int64)"
      ]
     },
     "execution_count": 58,
     "metadata": {},
     "output_type": "execute_result"
    }
   ],
   "source": [
    "np.argmax(single_prediction, axis=1)"
   ]
  },
  {
   "cell_type": "code",
   "execution_count": 44,
   "metadata": {},
   "outputs": [
    {
     "data": {
      "text/plain": [
       "1.0"
      ]
     },
     "execution_count": 44,
     "metadata": {},
     "output_type": "execute_result"
    }
   ],
   "source": [
    "np.max(single_prediction)"
   ]
  },
  {
   "cell_type": "code",
   "execution_count": null,
   "metadata": {},
   "outputs": [],
   "source": [
    "x_validation[]"
   ]
  },
  {
   "cell_type": "markdown",
   "metadata": {},
   "source": [
    "# Model Plotting / Basic Testing"
   ]
  },
  {
   "cell_type": "code",
   "execution_count": 37,
   "metadata": {},
   "outputs": [],
   "source": [
    "tf.keras.models.save_model(model, f\"pynumdraw_model_{MODEL_SEMVER}.hdf5\")"
   ]
  },
  {
   "cell_type": "code",
   "execution_count": null,
   "metadata": {},
   "outputs": [],
   "source": [
    "# probability_model = tf.keras.Sequential([model, tf.keras.layers.Softmax()])\n",
    "probability_model = tf.keras.models.load_model('pynumdraw_model.hdf5', compile=False)\n",
    "# this is how you generate a batch of the prediction array\n",
    "predictions = probability_model.predict(x_validation)"
   ]
  },
  {
   "cell_type": "code",
   "execution_count": null,
   "metadata": {},
   "outputs": [],
   "source": [
    "\n",
    "# this is how you generate a single prediction\n",
    "image_index = 0\n",
    "predicted_probabilities = probability_model.predict(x_validation[image_index, :, :].reshape((1, 28, 28)))\n",
    "print(predicted_probabilities)\n",
    "\n",
    "\n",
    "# this is how you find the confidence of that prediction (max of all of the values)\n",
    "print(np.max(predicted_probabilities))\n",
    "print( 100 * np.max(predicted_probabilities))\n",
    "\n"
   ]
  },
  {
   "cell_type": "code",
   "execution_count": null,
   "metadata": {},
   "outputs": [],
   "source": [
    "def plot_image(i, predictions_array, true_label, img):\n",
    "    \n",
    "    true_label = true_label.astype('int')\n",
    "    predictions_array, true_label, img = predictions_array, true_label[i], img[i]\n",
    "    plt.grid(False)\n",
    "    plt.xticks([])\n",
    "    plt.yticks([])\n",
    "\n",
    "    plt.imshow(img, cmap=plt.cm.binary)\n",
    "\n",
    "    predicted_label = np.argmax(predictions_array)\n",
    "    if predicted_label == true_label:\n",
    "        color = 'blue'\n",
    "    else:\n",
    "        color = 'red'\n",
    "\n",
    "    plt.xlabel(\"{} {:2.0f}% ({})\".format(class_names[predicted_label],\n",
    "                                100*np.max(predictions_array),\n",
    "                                class_names[true_label]),\n",
    "                                color=color)\n",
    "\n",
    "def plot_value_array(i, predictions_array, true_label):\n",
    "    \n",
    "    true_label = true_label.astype('int')\n",
    "    predictions_array, true_label = predictions_array, true_label[i]\n",
    "    plt.grid(False)\n",
    "    plt.xticks(range(10))\n",
    "    plt.yticks([])\n",
    "    thisplot = plt.bar(range(10), predictions_array, color=\"#777777\")\n",
    "    plt.ylim([0, 1])\n",
    "    predicted_label = np.argmax(predictions_array)\n",
    "\n",
    "    thisplot[predicted_label].set_color('red')\n",
    "    thisplot[true_label].set_color('blue')\n"
   ]
  },
  {
   "cell_type": "code",
   "execution_count": null,
   "metadata": {},
   "outputs": [],
   "source": [
    "x = np.array([1, 2, 3, 4])"
   ]
  },
  {
   "cell_type": "code",
   "execution_count": null,
   "metadata": {},
   "outputs": [],
   "source": [
    "x.astype('int')"
   ]
  }
 ],
 "metadata": {
  "kernelspec": {
   "display_name": "Python 3",
   "language": "python",
   "name": "python3"
  },
  "language_info": {
   "codemirror_mode": {
    "name": "ipython",
    "version": 3
   },
   "file_extension": ".py",
   "mimetype": "text/x-python",
   "name": "python",
   "nbconvert_exporter": "python",
   "pygments_lexer": "ipython3",
   "version": "3.7.3"
  }
 },
 "nbformat": 4,
 "nbformat_minor": 2
}
