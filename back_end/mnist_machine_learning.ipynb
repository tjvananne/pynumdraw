{
 "cells": [
  {
   "cell_type": "markdown",
   "metadata": {},
   "source": [
    "# MNIST ML - Load / process raw data"
   ]
  },
  {
   "cell_type": "code",
   "execution_count": null,
   "metadata": {},
   "outputs": [],
   "source": [
    "import sys\n",
    "import os\n",
    "import numpy as np\n",
    "import pandas as pd\n",
    "\n",
    "import matplotlib.pyplot as plt\n",
    "\n",
    "import tensorflow as tf\n",
    "from tensorflow import keras \n",
    "\n",
    "print(sys.executable)\n",
    "print(os.getcwd())"
   ]
  },
  {
   "cell_type": "code",
   "execution_count": null,
   "metadata": {},
   "outputs": [],
   "source": [
    "sys.version"
   ]
  },
  {
   "cell_type": "code",
   "execution_count": null,
   "metadata": {},
   "outputs": [],
   "source": [
    "def read_mnist_image_data(image_data_file):\n",
    "    \"\"\"\n",
    "    image_data_file: path to the mnist image data file on disk.\n",
    "    \n",
    "    returns a dictionary with the following keys:\n",
    "    - magic_number: to be compared against the magic number for each file on MNIST website\n",
    "    - number_of_images: the number of images included in the dataset\n",
    "    - pixel_rows: the number of pixels per row per image\n",
    "    - pixel_cols: the number of pixels per column per image\n",
    "    - data: the actual image data as ndarray with shape of (number_of_images, pixel_rows, pixel_cols)\n",
    "    \"\"\"\n",
    "    \n",
    "    results = {}\n",
    "    \n",
    "    with open(image_data_file, 'rb') as f:\n",
    "        _data = f.read()\n",
    "        \n",
    "    results['magic_number'] = int.from_bytes(_data[0:4], 'big')\n",
    "    results['number_of_images'] = int.from_bytes(_data[4:8], 'big')\n",
    "    results['pixel_rows'] = int.from_bytes(_data[8:12], 'big')\n",
    "    results['pixel_cols'] = int.from_bytes(_data[12:16], 'big')\n",
    "    \n",
    "    pixel_data = np.asarray([pixel for pixel in _data[16:]])\n",
    "    pixel_data = pixel_data.reshape(results['number_of_images'], results['pixel_rows'], results['pixel_cols'])\n",
    "    results['data'] = pixel_data\n",
    "    \n",
    "    return results\n",
    "    \n",
    "    \n",
    "def read_mnist_label_data(label_data_file):\n",
    "    \"\"\"\n",
    "    label_data_file: path to the mnist label data file on disk.\n",
    "    \n",
    "    returns a dictionary with the following keys:\n",
    "    - magic_number: to be compared against the magic number for each file on MNIST website\n",
    "    - number_of_labels: the number of labels included in the dataset\n",
    "    - labels: the actual label data as ndarray (1 dimensional)\n",
    "    \"\"\"\n",
    "    \n",
    "    results = {}\n",
    "    \n",
    "    with open(label_data_file, 'rb') as f:\n",
    "        _data = f.read()\n",
    "        \n",
    "    results['magic_number'] = int.from_bytes(_data[0:4], 'big')\n",
    "    results['number_of_labels'] = int.from_bytes(_data[4:8], 'big')    \n",
    "    results['labels'] = np.asarray([(label / 1.0) for label in _data[8:]]).astype('int')\n",
    "    \n",
    "    return results\n",
    "    \n",
    "    "
   ]
  },
  {
   "cell_type": "code",
   "execution_count": null,
   "metadata": {},
   "outputs": [],
   "source": [
    "# set up training images (divide )\n",
    "x_train = read_mnist_image_data(\"train-images-idx3-ubyte\")['data'] / 255.0\n",
    "y_train = read_mnist_label_data(\"train-labels-idx1-ubyte\")['labels']\n",
    "\n",
    "x_validation = read_mnist_image_data('t10k-images-idx3-ubyte')['data'] /255.0\n",
    "y_validation = read_mnist_label_data('t10k-labels-idx1-ubyte')['labels']\n"
   ]
  },
  {
   "cell_type": "code",
   "execution_count": null,
   "metadata": {},
   "outputs": [],
   "source": [
    "class_names = [str(x) for x in range(0, 10)]\n",
    "class_names"
   ]
  },
  {
   "cell_type": "code",
   "execution_count": null,
   "metadata": {},
   "outputs": [],
   "source": [
    "model = keras.Sequential([\n",
    "    keras.layers.Flatten(input_shape=(28, 28)),\n",
    "    keras.layers.Dense(128, activation='relu'),\n",
    "    keras.layers.Dense(10)\n",
    "])\n",
    "\n",
    "\n",
    "model.compile(optimizer='adam',\n",
    "              loss=tf.keras.losses.SparseCategoricalCrossentropy(from_logits=True),\n",
    "              metrics=['accuracy'])\n",
    "\n"
   ]
  },
  {
   "cell_type": "code",
   "execution_count": null,
   "metadata": {},
   "outputs": [],
   "source": [
    "model.fit(x_train, y_train, epochs=10)\n",
    "\n",
    "test_loss, test_acc = model.evaluate(x_validation,  y_validation, verbose=2)\n",
    "\n",
    "print('\\nTest accuracy:', test_acc)\n",
    "\n"
   ]
  },
  {
   "cell_type": "markdown",
   "metadata": {},
   "source": [
    "# Model Plotting / Basic Testing"
   ]
  },
  {
   "cell_type": "code",
   "execution_count": null,
   "metadata": {},
   "outputs": [],
   "source": [
    "tf.keras.models.save_model(probability_model, 'pynumdraw_model.hdf5')"
   ]
  },
  {
   "cell_type": "code",
   "execution_count": null,
   "metadata": {},
   "outputs": [],
   "source": [
    "# probability_model = tf.keras.Sequential([model, tf.keras.layers.Softmax()])\n",
    "probability_model = tf.keras.models.load_model('pynumdraw_model.hdf5', compile=False)\n",
    "# this is how you generate a batch of the prediction array\n",
    "predictions = probability_model.predict(x_validation)"
   ]
  },
  {
   "cell_type": "code",
   "execution_count": null,
   "metadata": {},
   "outputs": [],
   "source": [
    "\n",
    "# this is how you generate a single prediction\n",
    "image_index = 0\n",
    "predicted_probabilities = probability_model.predict(x_validation[image_index, :, :].reshape((1, 28, 28)))\n",
    "print(predicted_probabilities)\n",
    "\n",
    "\n",
    "# this is how you find the confidence of that prediction (max of all of the values)\n",
    "print(np.max(predicted_probabilities))\n",
    "print( 100 * np.max(predicted_probabilities))\n",
    "\n"
   ]
  },
  {
   "cell_type": "code",
   "execution_count": null,
   "metadata": {},
   "outputs": [],
   "source": [
    "def plot_image(i, predictions_array, true_label, img):\n",
    "    \n",
    "    true_label = true_label.astype('int')\n",
    "    predictions_array, true_label, img = predictions_array, true_label[i], img[i]\n",
    "    plt.grid(False)\n",
    "    plt.xticks([])\n",
    "    plt.yticks([])\n",
    "\n",
    "    plt.imshow(img, cmap=plt.cm.binary)\n",
    "\n",
    "    predicted_label = np.argmax(predictions_array)\n",
    "    if predicted_label == true_label:\n",
    "        color = 'blue'\n",
    "    else:\n",
    "        color = 'red'\n",
    "\n",
    "    plt.xlabel(\"{} {:2.0f}% ({})\".format(class_names[predicted_label],\n",
    "                                100*np.max(predictions_array),\n",
    "                                class_names[true_label]),\n",
    "                                color=color)\n",
    "\n",
    "def plot_value_array(i, predictions_array, true_label):\n",
    "    \n",
    "    true_label = true_label.astype('int')\n",
    "    predictions_array, true_label = predictions_array, true_label[i]\n",
    "    plt.grid(False)\n",
    "    plt.xticks(range(10))\n",
    "    plt.yticks([])\n",
    "    thisplot = plt.bar(range(10), predictions_array, color=\"#777777\")\n",
    "    plt.ylim([0, 1])\n",
    "    predicted_label = np.argmax(predictions_array)\n",
    "\n",
    "    thisplot[predicted_label].set_color('red')\n",
    "    thisplot[true_label].set_color('blue')\n"
   ]
  },
  {
   "cell_type": "code",
   "execution_count": null,
   "metadata": {},
   "outputs": [],
   "source": [
    "x = np.array([1, 2, 3, 4])"
   ]
  },
  {
   "cell_type": "code",
   "execution_count": null,
   "metadata": {},
   "outputs": [],
   "source": [
    "x.astype('int')"
   ]
  }
 ],
 "metadata": {
  "kernelspec": {
   "display_name": "Python 3",
   "language": "python",
   "name": "python3"
  },
  "language_info": {
   "codemirror_mode": {
    "name": "ipython",
    "version": 3
   },
   "file_extension": ".py",
   "mimetype": "text/x-python",
   "name": "python",
   "nbconvert_exporter": "python",
   "pygments_lexer": "ipython3",
   "version": "3.7.3"
  }
 },
 "nbformat": 4,
 "nbformat_minor": 2
}
